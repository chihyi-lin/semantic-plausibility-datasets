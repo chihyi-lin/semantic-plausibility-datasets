{
 "cells": [
  {
   "cell_type": "markdown",
   "metadata": {},
   "source": [
    "# PAP DATASET"
   ]
  },
  {
   "cell_type": "code",
   "execution_count": 1,
   "metadata": {},
   "outputs": [],
   "source": [
    "import os, ast\n",
    "\n",
    "import pandas as pd \n",
    "import numpy as np\n",
    "import matplotlib.pyplot as plt\n",
    "import seaborn as sns\n"
   ]
  },
  {
   "cell_type": "code",
   "execution_count": 2,
   "metadata": {},
   "outputs": [
    {
     "name": "stdout",
     "output_type": "stream",
     "text": [
      "/mount/studenten/semantic-plausibility/datasets/pap/additional-resources/eichel-ssiw-2023\n",
      "Amendment.pdf\n",
      "/mount/studenten/semantic-plausibility/datasets/pap/raw-annotations\n",
      "README.md\n",
      "/mount/studenten/semantic-plausibility/datasets/pap/raw-annotations\n",
      "dataset.tsv\n",
      "/mount/studenten/semantic-plausibility/datasets/pap/raw-annotations/mace_aggregations\n",
      "aggregated_predictions.tsv\n",
      "/mount/studenten/semantic-plausibility/datasets/pap/raw-annotations/mace_aggregations\n",
      "2-class-dist.prediction\n",
      "/mount/studenten/semantic-plausibility/datasets/pap/raw-annotations/mace_aggregations\n",
      "4-class-dist.prediction\n",
      "/mount/studenten/semantic-plausibility/datasets/pap/train-dev-test-split\n",
      "README.md\n",
      "/mount/studenten/semantic-plausibility/datasets/pap/train-dev-test-split/multiclass\n",
      "train.csv\n",
      "/mount/studenten/semantic-plausibility/datasets/pap/train-dev-test-split/multiclass\n",
      "dev.csv\n",
      "/mount/studenten/semantic-plausibility/datasets/pap/train-dev-test-split/multiclass\n",
      "test.csv\n",
      "/mount/studenten/semantic-plausibility/datasets/pap/train-dev-test-split/binary\n",
      "train.csv\n",
      "/mount/studenten/semantic-plausibility/datasets/pap/train-dev-test-split/binary\n",
      "dev.csv\n",
      "/mount/studenten/semantic-plausibility/datasets/pap/train-dev-test-split/binary\n",
      "test.csv\n"
     ]
    }
   ],
   "source": [
    "# List all existing files in \"dataset\"\n",
    "base_directory = \"/mount/studenten/semantic-plausibility/datasets/pap\"\n",
    "\n",
    "# walkthrough the directory and its subdirs\n",
    "for root, dirs, files in os.walk(base_directory):\n",
    "    for file in files:\n",
    "        print(root)\n",
    "        print(file)"
   ]
  },
  {
   "cell_type": "markdown",
   "metadata": {},
   "source": [
    "### Raw annotation"
   ]
  },
  {
   "cell_type": "code",
   "execution_count": 3,
   "metadata": {},
   "outputs": [],
   "source": [
    "raw_data_fp = \"/mount/studenten/semantic-plausibility/datasets/pap/raw-annotations/dataset.tsv\""
   ]
  },
  {
   "cell_type": "code",
   "execution_count": 4,
   "metadata": {},
   "outputs": [
    {
     "data": {
      "text/plain": [
       "event                       object\n",
       "original_label              object\n",
       "abstractness_combination    object\n",
       "rating                      object\n",
       "majority_multiclass         object\n",
       "distribution_multiclass     object\n",
       "majority_binary             object\n",
       "distribution_binary         object\n",
       "dtype: object"
      ]
     },
     "execution_count": 4,
     "metadata": {},
     "output_type": "execute_result"
    }
   ],
   "source": [
    "raw_df = pd.read_csv(raw_data_fp, sep='\\t')\n",
    "raw_df.dtypes"
   ]
  },
  {
   "cell_type": "code",
   "execution_count": 5,
   "metadata": {},
   "outputs": [
    {
     "data": {
      "text/html": [
       "<div>\n",
       "<style scoped>\n",
       "    .dataframe tbody tr th:only-of-type {\n",
       "        vertical-align: middle;\n",
       "    }\n",
       "\n",
       "    .dataframe tbody tr th {\n",
       "        vertical-align: top;\n",
       "    }\n",
       "\n",
       "    .dataframe thead th {\n",
       "        text-align: right;\n",
       "    }\n",
       "</style>\n",
       "<table border=\"1\" class=\"dataframe\">\n",
       "  <thead>\n",
       "    <tr style=\"text-align: right;\">\n",
       "      <th></th>\n",
       "      <th>event</th>\n",
       "      <th>original_label</th>\n",
       "      <th>abstractness_combination</th>\n",
       "      <th>rating</th>\n",
       "      <th>majority_multiclass</th>\n",
       "      <th>distribution_multiclass</th>\n",
       "      <th>majority_binary</th>\n",
       "      <th>distribution_binary</th>\n",
       "    </tr>\n",
       "  </thead>\n",
       "  <tbody>\n",
       "    <tr>\n",
       "      <th>count</th>\n",
       "      <td>1733</td>\n",
       "      <td>1733</td>\n",
       "      <td>1733</td>\n",
       "      <td>1733</td>\n",
       "      <td>1733</td>\n",
       "      <td>1733</td>\n",
       "      <td>1733</td>\n",
       "      <td>1733</td>\n",
       "    </tr>\n",
       "    <tr>\n",
       "      <th>unique</th>\n",
       "      <td>1733</td>\n",
       "      <td>2</td>\n",
       "      <td>27</td>\n",
       "      <td>1708</td>\n",
       "      <td>2</td>\n",
       "      <td>409</td>\n",
       "      <td>3</td>\n",
       "      <td>33</td>\n",
       "    </tr>\n",
       "    <tr>\n",
       "      <th>top</th>\n",
       "      <td>ability means mobility</td>\n",
       "      <td>implausible</td>\n",
       "      <td>m-a-a</td>\n",
       "      <td>[5, 5, 5, 4, 4, 5, 4, 5, 5]</td>\n",
       "      <td>unsure</td>\n",
       "      <td>[0.0, 0.0, 50.0, 50.0]</td>\n",
       "      <td>1</td>\n",
       "      <td>[100.0, 0.0]</td>\n",
       "    </tr>\n",
       "    <tr>\n",
       "      <th>freq</th>\n",
       "      <td>1</td>\n",
       "      <td>871</td>\n",
       "      <td>72</td>\n",
       "      <td>3</td>\n",
       "      <td>1667</td>\n",
       "      <td>23</td>\n",
       "      <td>931</td>\n",
       "      <td>159</td>\n",
       "    </tr>\n",
       "  </tbody>\n",
       "</table>\n",
       "</div>"
      ],
      "text/plain": [
       "                         event original_label abstractness_combination  \\\n",
       "count                     1733           1733                     1733   \n",
       "unique                    1733              2                       27   \n",
       "top     ability means mobility    implausible                    m-a-a   \n",
       "freq                         1            871                       72   \n",
       "\n",
       "                             rating majority_multiclass  \\\n",
       "count                          1733                1733   \n",
       "unique                         1708                   2   \n",
       "top     [5, 5, 5, 4, 4, 5, 4, 5, 5]              unsure   \n",
       "freq                              3                1667   \n",
       "\n",
       "       distribution_multiclass majority_binary distribution_binary  \n",
       "count                     1733            1733                1733  \n",
       "unique                     409               3                  33  \n",
       "top     [0.0, 0.0, 50.0, 50.0]               1        [100.0, 0.0]  \n",
       "freq                        23             931                 159  "
      ]
     },
     "execution_count": 5,
     "metadata": {},
     "output_type": "execute_result"
    }
   ],
   "source": [
    "# convert the string representation to actual numerical representation\n",
    "lists = ['rating', 'distribution_multiclass', 'distribution_binary']\n",
    "raw_df[lists] = raw_df[lists].map(lambda x: ast.literal_eval(x.strip()))\n",
    "raw_df.describe()\n"
   ]
  },
  {
   "cell_type": "markdown",
   "metadata": {},
   "source": [
    "### Basic statistics\n",
    "Some basic statistics of the dataset could be observed from above.\n",
    "* Number of events: 1733 (no missing data)\n",
    "* Number of original labels: 2 (almost perfectly balanced, with 871 implausible)\n",
    "* Number of unique abstractness combination: 27\n",
    "* For multiclass based on majority ratings, there are a significant amount of unsure class (1677/1733)\n",
    "* For binary class based on majority ratings, there are much more events rated as plausible (931/1733)\n",
    "* Number of events where all annotators agree 100%: 159\n"
   ]
  },
  {
   "cell_type": "code",
   "execution_count": 6,
   "metadata": {},
   "outputs": [
    {
     "data": {
      "text/html": [
       "<div>\n",
       "<style scoped>\n",
       "    .dataframe tbody tr th:only-of-type {\n",
       "        vertical-align: middle;\n",
       "    }\n",
       "\n",
       "    .dataframe tbody tr th {\n",
       "        vertical-align: top;\n",
       "    }\n",
       "\n",
       "    .dataframe thead th {\n",
       "        text-align: right;\n",
       "    }\n",
       "</style>\n",
       "<table border=\"1\" class=\"dataframe\">\n",
       "  <thead>\n",
       "    <tr style=\"text-align: right;\">\n",
       "      <th></th>\n",
       "      <th>event</th>\n",
       "      <th>original_label</th>\n",
       "      <th>abstractness_combination</th>\n",
       "      <th>rating</th>\n",
       "      <th>majority_multiclass</th>\n",
       "      <th>distribution_multiclass</th>\n",
       "      <th>majority_binary</th>\n",
       "      <th>distribution_binary</th>\n",
       "    </tr>\n",
       "  </thead>\n",
       "  <tbody>\n",
       "    <tr>\n",
       "      <th>0</th>\n",
       "      <td>ability means mobility</td>\n",
       "      <td>plausible</td>\n",
       "      <td>a-m-a</td>\n",
       "      <td>[2, 5, 4, 5, 5, 2, 5, 5, 5, 5]</td>\n",
       "      <td>5</td>\n",
       "      <td>[0.0, 20.0, 10.0, 70.0]</td>\n",
       "      <td>1</td>\n",
       "      <td>[80.0, 20.0]</td>\n",
       "    </tr>\n",
       "    <tr>\n",
       "      <th>1</th>\n",
       "      <td>ability permits multiplication</td>\n",
       "      <td>plausible</td>\n",
       "      <td>a-c-m</td>\n",
       "      <td>[5, 5, 5, 5, 4, 5, 5, 4]</td>\n",
       "      <td>5</td>\n",
       "      <td>[0.0, 0.0, 25.0, 75.0]</td>\n",
       "      <td>1</td>\n",
       "      <td>[100.0, 0.0]</td>\n",
       "    </tr>\n",
       "    <tr>\n",
       "      <th>2</th>\n",
       "      <td>access diminishes power</td>\n",
       "      <td>plausible</td>\n",
       "      <td>a-m-a</td>\n",
       "      <td>[4, 2, 5, 5, 5, 4, 4, 2, 4]</td>\n",
       "      <td>unsure</td>\n",
       "      <td>[0.0, 22.22222222222222, 44.44444444444444, 33...</td>\n",
       "      <td>1</td>\n",
       "      <td>[77.77777777777779, 22.22222222222222]</td>\n",
       "    </tr>\n",
       "    <tr>\n",
       "      <th>3</th>\n",
       "      <td>achievement reaches community</td>\n",
       "      <td>plausible</td>\n",
       "      <td>a-c-m</td>\n",
       "      <td>[1, 4, 1, 4, 5, 4, 5, 4, 5, 4]</td>\n",
       "      <td>unsure</td>\n",
       "      <td>[20.0, 0.0, 50.0, 30.0]</td>\n",
       "      <td>1</td>\n",
       "      <td>[80.0, 20.0]</td>\n",
       "    </tr>\n",
       "    <tr>\n",
       "      <th>4</th>\n",
       "      <td>acquisition casts glance</td>\n",
       "      <td>plausible</td>\n",
       "      <td>a-c-m</td>\n",
       "      <td>[4, 5, 4, 4, 4, 4, 1, 2]</td>\n",
       "      <td>unsure</td>\n",
       "      <td>[12.5, 12.5, 62.5, 12.5]</td>\n",
       "      <td>1</td>\n",
       "      <td>[75.0, 25.0]</td>\n",
       "    </tr>\n",
       "    <tr>\n",
       "      <th>5</th>\n",
       "      <td>action catches interest</td>\n",
       "      <td>plausible</td>\n",
       "      <td>a-c-a</td>\n",
       "      <td>[4, 4, 4, 4, 5, 5, 5, 4]</td>\n",
       "      <td>unsure</td>\n",
       "      <td>[0.0, 0.0, 62.5, 37.5]</td>\n",
       "      <td>1</td>\n",
       "      <td>[100.0, 0.0]</td>\n",
       "    </tr>\n",
       "    <tr>\n",
       "      <th>6</th>\n",
       "      <td>advance decreases time</td>\n",
       "      <td>plausible</td>\n",
       "      <td>a-m-m</td>\n",
       "      <td>[1, 5, 4, 5, 5, 2, 5, 4, 4]</td>\n",
       "      <td>unsure</td>\n",
       "      <td>[11.11111111111111, 11.11111111111111, 33.3333...</td>\n",
       "      <td>1</td>\n",
       "      <td>[77.77777777777779, 22.22222222222222]</td>\n",
       "    </tr>\n",
       "    <tr>\n",
       "      <th>7</th>\n",
       "      <td>advance guarantees freedom</td>\n",
       "      <td>plausible</td>\n",
       "      <td>a-a-a</td>\n",
       "      <td>[4, 4, 2, 4, 4, 2, 4, 2, 4]</td>\n",
       "      <td>unsure</td>\n",
       "      <td>[0.0, 33.33333333333333, 66.66666666666666, 0.0]</td>\n",
       "      <td>unsure</td>\n",
       "      <td>[66.66666666666666, 33.33333333333333]</td>\n",
       "    </tr>\n",
       "    <tr>\n",
       "      <th>8</th>\n",
       "      <td>advantage leads state</td>\n",
       "      <td>plausible</td>\n",
       "      <td>a-c-m</td>\n",
       "      <td>[5, 4, 4, 4, 4, 4, 4, 1]</td>\n",
       "      <td>unsure</td>\n",
       "      <td>[12.5, 0.0, 75.0, 12.5]</td>\n",
       "      <td>1</td>\n",
       "      <td>[87.5, 12.5]</td>\n",
       "    </tr>\n",
       "    <tr>\n",
       "      <th>9</th>\n",
       "      <td>advantage outweighs risk</td>\n",
       "      <td>plausible</td>\n",
       "      <td>a-m-a</td>\n",
       "      <td>[4, 4, 5, 5, 2, 4, 4, 4, 1]</td>\n",
       "      <td>unsure</td>\n",
       "      <td>[11.11111111111111, 11.11111111111111, 55.5555...</td>\n",
       "      <td>1</td>\n",
       "      <td>[77.77777777777779, 22.22222222222222]</td>\n",
       "    </tr>\n",
       "  </tbody>\n",
       "</table>\n",
       "</div>"
      ],
      "text/plain": [
       "                            event original_label abstractness_combination  \\\n",
       "0          ability means mobility      plausible                    a-m-a   \n",
       "1  ability permits multiplication      plausible                    a-c-m   \n",
       "2         access diminishes power      plausible                    a-m-a   \n",
       "3   achievement reaches community      plausible                    a-c-m   \n",
       "4        acquisition casts glance      plausible                    a-c-m   \n",
       "5         action catches interest      plausible                    a-c-a   \n",
       "6          advance decreases time      plausible                    a-m-m   \n",
       "7      advance guarantees freedom      plausible                    a-a-a   \n",
       "8           advantage leads state      plausible                    a-c-m   \n",
       "9        advantage outweighs risk      plausible                    a-m-a   \n",
       "\n",
       "                           rating majority_multiclass  \\\n",
       "0  [2, 5, 4, 5, 5, 2, 5, 5, 5, 5]                   5   \n",
       "1        [5, 5, 5, 5, 4, 5, 5, 4]                   5   \n",
       "2     [4, 2, 5, 5, 5, 4, 4, 2, 4]              unsure   \n",
       "3  [1, 4, 1, 4, 5, 4, 5, 4, 5, 4]              unsure   \n",
       "4        [4, 5, 4, 4, 4, 4, 1, 2]              unsure   \n",
       "5        [4, 4, 4, 4, 5, 5, 5, 4]              unsure   \n",
       "6     [1, 5, 4, 5, 5, 2, 5, 4, 4]              unsure   \n",
       "7     [4, 4, 2, 4, 4, 2, 4, 2, 4]              unsure   \n",
       "8        [5, 4, 4, 4, 4, 4, 4, 1]              unsure   \n",
       "9     [4, 4, 5, 5, 2, 4, 4, 4, 1]              unsure   \n",
       "\n",
       "                             distribution_multiclass majority_binary  \\\n",
       "0                            [0.0, 20.0, 10.0, 70.0]               1   \n",
       "1                             [0.0, 0.0, 25.0, 75.0]               1   \n",
       "2  [0.0, 22.22222222222222, 44.44444444444444, 33...               1   \n",
       "3                            [20.0, 0.0, 50.0, 30.0]               1   \n",
       "4                           [12.5, 12.5, 62.5, 12.5]               1   \n",
       "5                             [0.0, 0.0, 62.5, 37.5]               1   \n",
       "6  [11.11111111111111, 11.11111111111111, 33.3333...               1   \n",
       "7   [0.0, 33.33333333333333, 66.66666666666666, 0.0]          unsure   \n",
       "8                            [12.5, 0.0, 75.0, 12.5]               1   \n",
       "9  [11.11111111111111, 11.11111111111111, 55.5555...               1   \n",
       "\n",
       "                      distribution_binary  \n",
       "0                            [80.0, 20.0]  \n",
       "1                            [100.0, 0.0]  \n",
       "2  [77.77777777777779, 22.22222222222222]  \n",
       "3                            [80.0, 20.0]  \n",
       "4                            [75.0, 25.0]  \n",
       "5                            [100.0, 0.0]  \n",
       "6  [77.77777777777779, 22.22222222222222]  \n",
       "7  [66.66666666666666, 33.33333333333333]  \n",
       "8                            [87.5, 12.5]  \n",
       "9  [77.77777777777779, 22.22222222222222]  "
      ]
     },
     "execution_count": 6,
     "metadata": {},
     "output_type": "execute_result"
    }
   ],
   "source": [
    "# look at the first 10 rows\n",
    "raw_df.head(10)"
   ]
  },
  {
   "cell_type": "markdown",
   "metadata": {},
   "source": [
    "In average, there are 8.98 ratings for each event; all events have at least 8 ratings, there are some events with 12 ratings."
   ]
  },
  {
   "cell_type": "code",
   "execution_count": 7,
   "metadata": {},
   "outputs": [
    {
     "data": {
      "text/plain": [
       "count    1733.000000\n",
       "mean        8.984997\n",
       "std         0.811867\n",
       "min         8.000000\n",
       "25%         8.000000\n",
       "50%         9.000000\n",
       "75%        10.000000\n",
       "max        12.000000\n",
       "Name: number_ratings, dtype: float64"
      ]
     },
     "execution_count": 7,
     "metadata": {},
     "output_type": "execute_result"
    }
   ],
   "source": [
    "raw_df['number_ratings'] = raw_df['rating'].apply(len)\n",
    "raw_df['number_ratings'].describe()"
   ]
  },
  {
   "cell_type": "code",
   "execution_count": 8,
   "metadata": {},
   "outputs": [
    {
     "data": {
      "text/plain": [
       "count      1733\n",
       "unique       27\n",
       "top       m-a-a\n",
       "freq         72\n",
       "Name: abstractness_combination, dtype: object"
      ]
     },
     "execution_count": 8,
     "metadata": {},
     "output_type": "execute_result"
    }
   ],
   "source": [
    "raw_df[\"abstractness_combination\"].describe()"
   ]
  },
  {
   "cell_type": "markdown",
   "metadata": {},
   "source": [
    "Of the 27 abstractness combinations, the most common triple is of the type \"m-a-a\", with 72 triplets. As can be seen from the graph belows, the distribution of labels are almost balanced among abstractness combination. The the least common triples are \"a-m-a\" and \"m-m-a\", with almost 60 triples for each type."
   ]
  },
  {
   "cell_type": "code",
   "execution_count": 9,
   "metadata": {},
   "outputs": [
    {
     "data": {
      "text/plain": [
       "<matplotlib.legend.Legend at 0x7fadbfeb74d0>"
      ]
     },
     "execution_count": 9,
     "metadata": {},
     "output_type": "execute_result"
    },
    {
     "data": {
      "image/png": "[encoded data removed]",
      "text/plain": [
       "<Figure size 640x480 with 1 Axes>"
      ]
     },
     "metadata": {},
     "output_type": "display_data"
    }
   ],
   "source": [
    "# count the number of each abstractness combination\n",
    "combi_df = raw_df.groupby([\"abstractness_combination\",\"original_label\"]).size().unstack()\n",
    "\n",
    "# Plotting stacked bar chart\n",
    "ax = combi_df.plot(kind='bar', stacked=True)\n",
    "plt.xlabel(\"abtractness combination\")\n",
    "plt.ylabel(\"# triples\")\n",
    "plt.title(\"Distribution of plausible and implausible triples per combination\")\n",
    "\n",
    "# moving the legen outside the plot area\n",
    "ax.legend(title='Class', bbox_to_anchor=(1.05,1), loc='upper left')"
   ]
  },
  {
   "cell_type": "markdown",
   "metadata": {},
   "source": [
    "For ease of visualization, we aggregate all individual ratings as average median rating per triples. The mean of median rating is 3.7, showing a tendency for average plausibility."
   ]
  },
  {
   "cell_type": "code",
   "execution_count": 10,
   "metadata": {},
   "outputs": [
    {
     "data": {
      "text/plain": [
       "count    1733.000000\n",
       "mean        3.786786\n",
       "std         0.957367\n",
       "min         1.000000\n",
       "25%         4.000000\n",
       "50%         4.000000\n",
       "75%         4.000000\n",
       "max         5.000000\n",
       "Name: average_ratings, dtype: float64"
      ]
     },
     "execution_count": 10,
     "metadata": {},
     "output_type": "execute_result"
    }
   ],
   "source": [
    "raw_df['average_ratings'] = raw_df['rating'].apply(pd.Series).median(axis=1)\n",
    "raw_df['average_ratings'].describe()"
   ]
  },
  {
   "cell_type": "code",
   "execution_count": 11,
   "metadata": {},
   "outputs": [
    {
     "data": {
      "text/html": [
       "<div>\n",
       "<style scoped>\n",
       "    .dataframe tbody tr th:only-of-type {\n",
       "        vertical-align: middle;\n",
       "    }\n",
       "\n",
       "    .dataframe tbody tr th {\n",
       "        vertical-align: top;\n",
       "    }\n",
       "\n",
       "    .dataframe thead th {\n",
       "        text-align: right;\n",
       "    }\n",
       "</style>\n",
       "<table border=\"1\" class=\"dataframe\">\n",
       "  <thead>\n",
       "    <tr style=\"text-align: right;\">\n",
       "      <th>average_ratings</th>\n",
       "      <th>1.0</th>\n",
       "      <th>1.5</th>\n",
       "      <th>2.0</th>\n",
       "      <th>2.5</th>\n",
       "      <th>3.0</th>\n",
       "      <th>3.5</th>\n",
       "      <th>4.0</th>\n",
       "      <th>4.5</th>\n",
       "      <th>5.0</th>\n",
       "    </tr>\n",
       "    <tr>\n",
       "      <th>original_label</th>\n",
       "      <th></th>\n",
       "      <th></th>\n",
       "      <th></th>\n",
       "      <th></th>\n",
       "      <th></th>\n",
       "      <th></th>\n",
       "      <th></th>\n",
       "      <th></th>\n",
       "      <th></th>\n",
       "    </tr>\n",
       "  </thead>\n",
       "  <tbody>\n",
       "    <tr>\n",
       "      <th>implausible</th>\n",
       "      <td>27.0</td>\n",
       "      <td>20.0</td>\n",
       "      <td>157.0</td>\n",
       "      <td>9.0</td>\n",
       "      <td>82.0</td>\n",
       "      <td>0.0</td>\n",
       "      <td>508.0</td>\n",
       "      <td>37.0</td>\n",
       "      <td>31.0</td>\n",
       "    </tr>\n",
       "    <tr>\n",
       "      <th>plausible</th>\n",
       "      <td>6.0</td>\n",
       "      <td>5.0</td>\n",
       "      <td>38.0</td>\n",
       "      <td>4.0</td>\n",
       "      <td>36.0</td>\n",
       "      <td>1.0</td>\n",
       "      <td>451.0</td>\n",
       "      <td>101.0</td>\n",
       "      <td>220.0</td>\n",
       "    </tr>\n",
       "  </tbody>\n",
       "</table>\n",
       "</div>"
      ],
      "text/plain": [
       "average_ratings   1.0   1.5    2.0  2.5   3.0  3.5    4.0    4.5    5.0\n",
       "original_label                                                         \n",
       "implausible      27.0  20.0  157.0  9.0  82.0  0.0  508.0   37.0   31.0\n",
       "plausible         6.0   5.0   38.0  4.0  36.0  1.0  451.0  101.0  220.0"
      ]
     },
     "execution_count": 11,
     "metadata": {},
     "output_type": "execute_result"
    }
   ],
   "source": [
    "# count the number of each rating \n",
    "rating_df = raw_df.groupby([\"original_label\",\"average_ratings\"]).size().unstack().fillna(0)\n",
    "rating_df"
   ]
  },
  {
   "cell_type": "markdown",
   "metadata": {},
   "source": [
    "As the belowed graph shows, there are a large amount of triples rated as {4, 5}, showing that the ratings are skewed towards \"plausible\". \n",
    "Of the pseudo-implausible class, there are 157 triples rated as \"weakly implausible\"; while there are 451 triples that were attested in the corpus and also rated as \"plausible\". \n",
    "More notably, there are nearly 550 pseudo-implausible triples rated as \"plausible\" or \"highly plausible\" (ratings in [4,5])"
   ]
  },
  {
   "cell_type": "code",
   "execution_count": 12,
   "metadata": {},
   "outputs": [
    {
     "data": {
      "text/plain": [
       "<Axes: xlabel='average_ratings', ylabel='original_label'>"
      ]
     },
     "execution_count": 12,
     "metadata": {},
     "output_type": "execute_result"
    },
    {
     "data": {
      "image/png": "[encoded data removed]",
      "text/plain": [
       "<Figure size 640x480 with 2 Axes>"
      ]
     },
     "metadata": {},
     "output_type": "display_data"
    }
   ],
   "source": [
    "sns.heatmap(rating_df, cmap=sns.cubehelix_palette(as_cmap=True))"
   ]
  },
  {
   "cell_type": "markdown",
   "metadata": {},
   "source": []
  }
 ],
 "metadata": {
  "kernelspec": {
   "display_name": "Python 3",
   "language": "python",
   "name": "python3"
  },
  "language_info": {
   "codemirror_mode": {
    "name": "ipython",
    "version": 3
   },
   "file_extension": ".py",
   "mimetype": "text/x-python",
   "name": "python",
   "nbconvert_exporter": "python",
   "pygments_lexer": "ipython3",
   "version": "3.11.5"
  }
 },
 "nbformat": 4,
 "nbformat_minor": 2
}
