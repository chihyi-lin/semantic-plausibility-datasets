{
 "cells": [
  {
   "cell_type": "markdown",
   "metadata": {},
   "source": [
    "# Datasets Analysis for Modeling Semantic Plausibility: pep-3k"
   ]
  },
  {
   "cell_type": "code",
   "execution_count": 2,
   "metadata": {},
   "outputs": [],
   "source": [
    "import pandas as pd\n",
    "import matplotlib.pyplot as plt\n",
    "import nltk\n",
    "from nltk.tokenize import word_tokenize\n",
    "from nltk.probability import FreqDist\n",
    "\n",
    "# download punkt\n",
    "# nltk.download('punkt')"
   ]
  },
  {
   "cell_type": "markdown",
   "metadata": {},
   "source": [
    "## Load and Combine Files"
   ]
  },
  {
   "cell_type": "code",
   "execution_count": 4,
   "metadata": {},
   "outputs": [
    {
     "name": "stdout",
     "output_type": "stream",
     "text": [
      "      label                  text\n",
      "0         0   elephant vomit boat\n",
      "1         1   tape attach sticker\n",
      "2         1        knife dig bike\n",
      "3         1        girl cut grape\n",
      "4         1   policeman halt ball\n",
      "...     ...                   ...\n",
      "3057      0        wool clip dust\n",
      "3058      1         rope hook pan\n",
      "3059      0      bag contain tree\n",
      "3060      1     gorilla bury leaf\n",
      "3061      1  sidewalk curb wheels\n",
      "\n",
      "[3062 rows x 2 columns]\n"
     ]
    }
   ],
   "source": [
    "def combine_datasets(file_paths):\n",
    "    # Initialize an empty list to store individual dataframes\n",
    "    dataframes = []\n",
    "    \n",
    "    # Iterate through file paths and load each CSV file\n",
    "    for file_path in file_paths:\n",
    "        data = pd.read_csv(file_path)\n",
    "        dataframes.append(data)\n",
    "    \n",
    "    # Concatenate all dataframes into a single dataframe\n",
    "    combined_data = pd.concat(dataframes, ignore_index=True)\n",
    "    return combined_data\n",
    "\n",
    "file_paths = ['dev.csv', \n",
    "              'test.csv', \n",
    "              'train.csv']\n",
    "\n",
    "dataset = combine_datasets(file_paths)\n",
    "print(dataset)"
   ]
  },
  {
   "cell_type": "markdown",
   "metadata": {},
   "source": [
    "##  Analyze Dataset Characteristics\n",
    "### Aspect 1: Text Length Analysis\n",
    "   - The dataset consistently demonstrates texts composed of merely three words each.\n",
    "   - A simple S-V-O structure without any additional modifiers or complexities."
   ]
  },
  {
   "cell_type": "code",
   "execution_count": 5,
   "metadata": {
    "scrolled": true
   },
   "outputs": [
    {
     "name": "stdout",
     "output_type": "stream",
     "text": [
      "Text Length Statistics:\n",
      "Mean of text length: 3.0\n",
      "Median of text length: 3.0\n",
      "Standard Deviation of text length: 0.0\n",
      "Minimum of text length: 3.0\n",
      "Maximum of text length: 3.0\n"
     ]
    },
    {
     "data": {
      "image/png": "[encoded data removed]",
      "text/plain": [
       "<Figure size 432x288 with 1 Axes>"
      ]
     },
     "metadata": {
      "needs_background": "light"
     },
     "output_type": "display_data"
    },
    {
     "data": {
      "text/plain": [
       "{'Mean of text length': 3.0,\n",
       " 'Median of text length': 3.0,\n",
       " 'Standard Deviation of text length': 0.0,\n",
       " 'Minimum of text length': 3,\n",
       " 'Maximum of text length': 3}"
      ]
     },
     "execution_count": 5,
     "metadata": {},
     "output_type": "execute_result"
    }
   ],
   "source": [
    "def text_length(dataset):\n",
    "    \n",
    "    dataset['text_length'] = dataset['text'].apply(lambda x: len(x.split()))\n",
    "    \n",
    "    #important statistics\n",
    "    text_length_statistics = {\n",
    "        'Mean of text length': dataset['text_length'].mean(),\n",
    "        'Median of text length': dataset['text_length'].median(),\n",
    "        'Standard Deviation of text length': dataset['text_length'].std(),\n",
    "        'Minimum of text length': dataset['text_length'].min(),\n",
    "        'Maximum of text length': dataset['text_length'].max()\n",
    "    }\n",
    "\n",
    "    print(\"Text Length Statistics:\")\n",
    "    for stat_name, stat_value in text_length_statistics.items():\n",
    "        print(f\"{stat_name}: {stat_value:.1f}\")  \n",
    "    \n",
    "    #show it in histogram\n",
    "    plt.hist(dataset['text_length'], bins=30)\n",
    "    plt.xlabel('Text Length')\n",
    "    plt.ylabel('Frequency')\n",
    "    plt.title('Distribution of Text Length')\n",
    "    plt.show()\n",
    "    \n",
    "    return text_length_statistics\n",
    "\n",
    "text_length(dataset)"
   ]
  },
  {
   "cell_type": "markdown",
   "metadata": {},
   "source": [
    "### Aspect 2: Word Count Analysis\n",
    "- This dataset covers a relatively small pool of words (584 unique words). "
   ]
  },
  {
   "cell_type": "code",
   "execution_count": 6,
   "metadata": {},
   "outputs": [
    {
     "name": "stdout",
     "output_type": "stream",
     "text": [
      "Total number of words in the dataset: 9186\n",
      "Total number of unique words in the dataset: 584\n"
     ]
    },
    {
     "data": {
      "text/plain": [
       "584"
      ]
     },
     "execution_count": 6,
     "metadata": {},
     "output_type": "execute_result"
    }
   ],
   "source": [
    "def total_words(dataset):\n",
    "    \n",
    "    # Combine text data into a single string\n",
    "    all_text = ' '.join(dataset['text']).lower()\n",
    "\n",
    "    tokens = word_tokenize(all_text)\n",
    "    total_words_count = len(tokens)\n",
    "\n",
    "    print(f\"Total number of words in the dataset: {total_words_count}\")\n",
    "\n",
    "    return total_words_count\n",
    "\n",
    "def total_unique_words(dataset):\n",
    "    \n",
    "    all_text = ' '.join(dataset['text']).lower()\n",
    "\n",
    "    tokens = word_tokenize(all_text)\n",
    "    unique_words = set(tokens)\n",
    "    total_unique_words = len(unique_words)\n",
    "\n",
    "    print(f\"Total number of unique words in the dataset: {total_unique_words}\")\n",
    "\n",
    "    return total_unique_words\n",
    "\n",
    "total_words(dataset)\n",
    "total_unique_words(dataset)"
   ]
  },
  {
   "cell_type": "markdown",
   "metadata": {},
   "source": [
    "### Aspect 3: Word frequrncy Analysis\n",
    "- These words exhibit a high level of repetition (584/9186), highlighting a significant frequency among certain words, with some repeting over a hundred times."
   ]
  },
  {
   "cell_type": "code",
   "execution_count": 7,
   "metadata": {},
   "outputs": [
    {
     "data": {
      "image/png": "[encoded data removed]",
      "text/plain": [
       "<Figure size 864x360 with 1 Axes>"
      ]
     },
     "metadata": {
      "needs_background": "light"
     },
     "output_type": "display_data"
    },
    {
     "name": "stdout",
     "output_type": "stream",
     "text": [
      "Top 10 frequent words and their frequencies:\n",
      "man         292\n",
      "air         165\n",
      "dog         157\n",
      "water       153\n",
      "girl        140\n",
      "elephant    140\n",
      "hand        121\n",
      "cat         119\n",
      "house       105\n",
      "child       103\n",
      "dtype: int64\n"
     ]
    },
    {
     "data": {
      "text/plain": [
       "man       292\n",
       "air       165\n",
       "dog       157\n",
       "water     153\n",
       "girl      140\n",
       "         ... \n",
       "school      1\n",
       "worker      1\n",
       "jaw         1\n",
       "onions      1\n",
       "jeans       1\n",
       "Length: 584, dtype: int64"
      ]
     },
     "execution_count": 7,
     "metadata": {},
     "output_type": "execute_result"
    }
   ],
   "source": [
    "def token_frequency(dataset):\n",
    "    \n",
    "    all_text = ' '.join(dataset['text']).lower().split()\n",
    "    token_frequency = pd.Series(all_text).value_counts()\n",
    "\n",
    "    #Show the word frequency in line\n",
    "    plt.figure(figsize=(12, 5))\n",
    "    token_frequency.plot()\n",
    "    plt.xlabel('Tokens')\n",
    "    plt.ylabel('Frequency')\n",
    "    plt.title('Token Frequency Distribution')\n",
    "    plt.show()\n",
    "    \n",
    "    # Get the top 10 frequency words and their frequencies\n",
    "    top_10_words = token_frequency.head(10)\n",
    "    print(\"Top 10 frequent words and their frequencies:\")\n",
    "    print(top_10_words)\n",
    "\n",
    "    return token_frequency\n",
    "    \n",
    "token_frequency(dataset)"
   ]
  },
  {
   "cell_type": "markdown",
   "metadata": {},
   "source": [
    "### Aspect 4: Word Overlap Across Train, Dev, and Test Datasets Analysis\n",
    "- A small percentage of new words is observed in the dev dataset (1.88%) and test dataset (1.71%)."
   ]
  },
  {
   "cell_type": "code",
   "execution_count": 8,
   "metadata": {},
   "outputs": [
    {
     "name": "stdout",
     "output_type": "stream",
     "text": [
      "Word Overlap Across Train, Dev, and Test Datasets:\n",
      "Overlap words in three datasets: 233 (39.90%)\n",
      "Overlap words in two datasets: 156 (26.71%)\n",
      "Words only in Train: 174 (29.79%)\n",
      "Words only in Dev: 11 (1.88%)\n",
      "Words only in Test: 10 (1.71%)\n"
     ]
    },
    {
     "data": {
      "image/png": "[encoded data removed]",
      "text/plain": [
       "<Figure size 576x432 with 1 Axes>"
      ]
     },
     "metadata": {},
     "output_type": "display_data"
    }
   ],
   "source": [
    "def word_overlap(train_data, dev_data, test_data):\n",
    "    \n",
    "    train_data = pd.read_csv(train_data)\n",
    "    dev_data = pd.read_csv(dev_data)\n",
    "    test_data = pd.read_csv(test_data)\n",
    "\n",
    "    # Get sets of words from each dataset\n",
    "    train_words = set([word.lower() for text in train_data['text'] for word in text.split()])\n",
    "    dev_words = set([word.lower() for text in dev_data['text'] for word in text.split()])\n",
    "    test_words = set([word.lower() for text in test_data['text'] for word in text.split()])\n",
    "\n",
    "    # Calculate overlapping words\n",
    "    overlap_in_three = train_words.intersection(dev_words, test_words)\n",
    "    overlap_in_two = (train_words.intersection(dev_words) | train_words.intersection(test_words) | dev_words.intersection(test_words)) - overlap_in_three\n",
    "\n",
    "    # Calculate unique words in each dataset\n",
    "    train_unique = train_words - (overlap_in_three | overlap_in_two)\n",
    "    dev_unique = dev_words - (overlap_in_three | overlap_in_two)\n",
    "    test_unique = test_words - (overlap_in_three | overlap_in_two)\n",
    "\n",
    "    # Calculate counts and percentages\n",
    "    total_words = len(train_unique) + len(dev_unique) + len(test_unique) + len(overlap_in_three) + len(overlap_in_two)\n",
    "    overlap_in_three_count = len(overlap_in_three)\n",
    "    overlap_in_two_count = len(overlap_in_two)\n",
    "    train_unique_count = len(train_unique)\n",
    "    dev_unique_count = len(dev_unique)\n",
    "    test_unique_count = len(test_unique)\n",
    "\n",
    "    # Calculate percentages\n",
    "    overlap_in_three_percentage = (overlap_in_three_count / total_words) * 100\n",
    "    overlap_in_two_percentage = (overlap_in_two_count / total_words) * 100\n",
    "    train_unique_percentage = (train_unique_count / total_words) * 100\n",
    "    dev_unique_percentage = (dev_unique_count / total_words) * 100\n",
    "    test_unique_percentage = (test_unique_count / total_words) * 100\n",
    "\n",
    "    # Store statistics\n",
    "    labels = ['Overlap (all)', 'Overlap (two)', 'Words only in Train', 'Words only in Dev', 'Words only in Test']\n",
    "    sizes = [ overlap_in_three_count, overlap_in_two_count, train_unique_count, dev_unique_count, test_unique_count]\n",
    "  \n",
    "    # Display statistics\n",
    "    print(\"Word Overlap Across Train, Dev, and Test Datasets:\")\n",
    "    print(\"Overlap words in three datasets:\", overlap_in_three_count, f\"({overlap_in_three_percentage:.2f}%)\")\n",
    "    print(\"Overlap words in two datasets:\", overlap_in_two_count, f\"({overlap_in_two_percentage:.2f}%)\")\n",
    "    print(\"Words only in Train:\", train_unique_count, f\"({train_unique_percentage:.2f}%)\")\n",
    "    print(\"Words only in Dev:\", dev_unique_count, f\"({dev_unique_percentage:.2f}%)\")\n",
    "    print(\"Words only in Test:\", test_unique_count, f\"({test_unique_percentage:.2f}%)\")\n",
    "    \n",
    "    # Show in pie graph\n",
    "    plt.figure(figsize=(8, 6))\n",
    "    plt.pie(sizes, labels=labels, autopct='%1.1f%%', startangle=140)\n",
    "    plt.title('Word Distribution Among Datasets')\n",
    "    plt.show()\n",
    "\n",
    "train_data = 'train.csv'\n",
    "dev_data = 'dev.csv'\n",
    "test_data = 'test.csv'\n",
    "\n",
    "word_overlap(train_data, dev_data, test_data)"
   ]
  },
  {
   "cell_type": "markdown",
   "metadata": {},
   "source": [
    "### Aspect 5: "
   ]
  },
  {
   "cell_type": "code",
   "execution_count": null,
   "metadata": {},
   "outputs": [],
   "source": []
  }
 ],
 "metadata": {
  "kernelspec": {
   "display_name": "Python 3",
   "language": "python",
   "name": "python3"
  },
  "language_info": {
   "codemirror_mode": {
    "name": "ipython",
    "version": 3
   },
   "file_extension": ".py",
   "mimetype": "text/x-python",
   "name": "python",
   "nbconvert_exporter": "python",
   "pygments_lexer": "ipython3",
   "version": "3.10.8"
  }
 },
 "nbformat": 4,
 "nbformat_minor": 4
}
